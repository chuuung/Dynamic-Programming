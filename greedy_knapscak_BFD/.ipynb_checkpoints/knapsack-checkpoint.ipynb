{
 "cells": [
  {
   "cell_type": "code",
   "execution_count": 136,
   "id": "5a45d857",
   "metadata": {},
   "outputs": [],
   "source": [
    "\"\"\"\n",
    "Input:\n",
    "Values of items (array v)\n",
    "Weights of items (array w)\n",
    "Number of distinct items(n)\n",
    "Knapsack capacity(W)\n",
    "\"\"\"\n",
    "import numpy as np\n",
    "w = np.array([23,26,20,18,32,27,29,26,30,27])\n",
    "v = np.array([505,352,458,220,354,414,498,545,473,543])\n",
    "W = 67\n",
    "n = len(v)\n"
   ]
  },
  {
   "cell_type": "code",
   "execution_count": 139,
   "id": "63d0e078",
   "metadata": {},
   "outputs": [],
   "source": [
    "def knapSack(W: int, wt, val, n):\n",
    "    m = [[0 for x in range(W + 1)] for x in range(n + 1)]\n",
    "    \n",
    "    for i in range(n + 1):\n",
    "        for w in range (W + 1):\n",
    "            if i == 0 or w == 0:\n",
    "                m[i][w] = 0\n",
    "            elif wt[i-1] > w:\n",
    "                m[i][w] = m[i-1][w]\n",
    "            else:\n",
    "                m[i][w] = max(m[i-1][w],m[i-1][w-wt[i-1]]+v[i-1])\n",
    "            \n",
    "    result = m[n][W]\n",
    "    print(result)\n",
    "    \n",
    "    w = W\n",
    "    for i in range(n,0,-1):\n",
    "        if result <= 0:\n",
    "            break\n",
    "        if result == m[i-1][w]:\n",
    "            continue\n",
    "        else:\n",
    "            print(i-1,wt[i-1])\n",
    "            result = result - val[i-1]\n",
    "            w = w-wt[i-1]"
   ]
  },
  {
   "cell_type": "code",
   "execution_count": 140,
   "id": "d409472e",
   "metadata": {},
   "outputs": [
    {
     "name": "stdout",
     "output_type": "stream",
     "text": [
      "1270\n",
      "7 26\n",
      "3 18\n",
      "0 23\n"
     ]
    }
   ],
   "source": [
    "knapSack(W,w,v,n)"
   ]
  },
  {
   "cell_type": "markdown",
   "id": "9098c7e3",
   "metadata": {},
   "source": [
    "挑出誰是reserved，其餘不在reserved list"
   ]
  }
 ],
 "metadata": {
  "kernelspec": {
   "display_name": "Python 3 (ipykernel)",
   "language": "python",
   "name": "python3"
  },
  "language_info": {
   "codemirror_mode": {
    "name": "ipython",
    "version": 3
   },
   "file_extension": ".py",
   "mimetype": "text/x-python",
   "name": "python",
   "nbconvert_exporter": "python",
   "pygments_lexer": "ipython3",
   "version": "3.9.12"
  }
 },
 "nbformat": 4,
 "nbformat_minor": 5
}
